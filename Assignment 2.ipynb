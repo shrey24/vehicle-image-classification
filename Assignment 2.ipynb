{
 "cells": [
  {
   "cell_type": "code",
   "execution_count": 1,
   "metadata": {},
   "outputs": [],
   "source": [
    "import os\n",
    "import pandas as pd\n",
    "import numpy as np\n",
    "import matplotlib.pyplot as plt\n",
    "import matplotlib.image as mpimg\n",
    "import cv2\n",
    "from skimage.feature import hog as sk_hog\n",
    "from sklearn.neighbors import KNeighborsClassifier\n",
    "from sklearn.decomposition import PCA, TruncatedSVD\n",
    "from sklearn import metrics\n",
    "%matplotlib inline"
   ]
  },
  {
   "cell_type": "code",
   "execution_count": 2,
   "metadata": {},
   "outputs": [],
   "source": [
    "\"\"\" Utility functions to display images\"\"\"\n",
    "# Display one image\n",
    "def display_one(a, title1 = \"Original\"):\n",
    "    plt.imshow(a), plt.title(title1)\n",
    "    plt.xticks([]), plt.yticks([])\n",
    "    plt.show()\n",
    "\n",
    "# Display two images\n",
    "def display(a, b, title1 = \"Original\", title2 = \"Edited\"):\n",
    "    plt.figure()\n",
    "    plt.subplot(121), plt.imshow(a), plt.title(title1)\n",
    "#     plt.xticks([]), plt.yticks([])\n",
    "    plt.subplot(122), plt.imshow(b), plt.title(title2)\n",
    "#     plt.xticks([]), plt.yticks([])\n",
    "    plt.grid(True)\n",
    "    plt.show()  "
   ]
  },
  {
   "cell_type": "markdown",
   "metadata": {},
   "source": [
    "## Extract labels from train.labels and test.labels"
   ]
  },
  {
   "cell_type": "code",
   "execution_count": 3,
   "metadata": {},
   "outputs": [
    {
     "name": "stdout",
     "output_type": "stream",
     "text": [
      "<class 'pandas.core.frame.DataFrame'>\n"
     ]
    },
    {
     "data": {
      "image/png": "[encoded data removed]",
      "text/plain": [
       "<Figure size 432x288 with 1 Axes>"
      ]
     },
     "metadata": {
      "needs_background": "light"
     },
     "output_type": "display_data"
    }
   ],
   "source": [
    "X_train_imgs_path = 'traffic_data/traffic-small/train'\n",
    "y_train_labels_path = 'traffic_data/traffic-small/train.labels'\n",
    "\n",
    "X_test_imgs_path = 'traffic_data/traffic-small/test'\n",
    "y_test_labels_path = 'traffic_data/traffic-small/test.labels'\n",
    "\n",
    "def read_labels(file_path):\n",
    "    y_train = []\n",
    "    with open(file_path, \"r\") as f:\n",
    "        lines = f.readlines()\n",
    "        for line in lines:\n",
    "            line = line.rstrip()\n",
    "            y_train.append(line)\n",
    "    return y_train\n",
    "\n",
    "# y_train = read_labels(y_labels_path)\n",
    "# print(\"first 10 labels : \", y_train[:10])\n",
    "# print(\"total samples in training data: \", len(y_train))\n",
    "# y_labels = np.array(y_train, dtype='int64')\n",
    "# y_labels = pd.DataFrame(y_labels)\n",
    "# y_labels[0].value_counts().plot(kind='bar')\n",
    "# plt.bar(y_labels, height=10)\n",
    "# plt.show()\n",
    "\n",
    "# load data\n",
    "y_train = np.loadtxt(y_train_labels_path)\n",
    "y_test = np.loadtxt(y_test_labels_path)\n",
    "\n",
    "y_labels = pd.DataFrame(y_train)\n",
    "y_labels[0].value_counts().plot(kind='bar')\n",
    "\n",
    "# y_test_labels = pd.DataFrame(y_test)\n",
    "# y_test_labels[0].value_counts().plot(kind='bar')\n",
    "\n",
    "print(type(y_labels))"
   ]
  },
  {
   "cell_type": "markdown",
   "metadata": {},
   "source": [
    "## Extract images from folders, and rescale it to 64X64"
   ]
  },
  {
   "cell_type": "code",
   "execution_count": 4,
   "metadata": {},
   "outputs": [
    {
     "name": "stdout",
     "output_type": "stream",
     "text": [
      "(4209, 64, 64, 3)\n"
     ]
    }
   ],
   "source": [
    "'''function to load folder into arrays and \n",
    "then it returns that same array'''\n",
    "def loadImagePaths(path):\n",
    "    # Put files into lists and return them as one list\n",
    "    image_files = sorted( [os.path.join(path, file) for file in os.listdir(path) if file.endswith('.jpg')] )\n",
    "    return image_files\n",
    "\n",
    "def scale_imgs(cv2_img_list, height, width):\n",
    "    dim = (width, height)\n",
    "    res_img = []\n",
    "    for i in range(len(cv2_img_list)):\n",
    "        res = cv2.resize(cv2_img_list[i], dim, interpolation=cv2.INTER_LINEAR)\n",
    "        res_img.append(res)\n",
    "    return res_img\n",
    "\n",
    "\n",
    "# read train images\n",
    "X_train_img_paths = loadImagePaths(X_train_imgs_path)\n",
    "X_train_imgs = [cv2.imread(img, cv2.IMREAD_UNCHANGED) for img in X_train_img_paths[:]]\n",
    "# pre-process\n",
    "X_train_imgs = scale_imgs(X_train_imgs, 64, 64)\n",
    "\n",
    "X_train = np.array(X_train_imgs)\n",
    "print(X_train.shape) # (number, M, N, Channels)\n",
    "\n",
    "# avg_row=0\n",
    "# avg_col=0\n",
    "# img1 = img[0]\n",
    "# print(img.shape)\n",
    "# print(img1.shape)\n",
    "# for i in img:\n",
    "#     avg_row += int(i[0])\n",
    "#     avg_col += int(i[1])\n",
    "                    \n",
    "# print('avg_row:', avg_row/len(img), 'avg_coln:', avg_col/len(img))"
   ]
  },
  {
   "cell_type": "code",
   "execution_count": 5,
   "metadata": {},
   "outputs": [
    {
     "name": "stdout",
     "output_type": "stream",
     "text": [
      "(4209, 64, 64, 3)\n"
     ]
    }
   ],
   "source": [
    "# read test dataset and convert to ndarray of pixels\n",
    "X_test_img_paths = loadImagePaths(X_test_imgs_path) # load paths of all images in folder\n",
    "X_test_imgs = [cv2.imread(img, cv2.IMREAD_UNCHANGED) for img in X_test_img_paths[:]] # read imgs as ndarray of pixels\n",
    "X_test_imgs = scale_imgs(X_test_imgs, 64, 64) # scale imgs to 64X64\n",
    "X_test = np.array(X_test_imgs) # convert list to np.ndarray\n",
    "print(X_test.shape) # (number, M, N, Channels)"
   ]
  },
  {
   "cell_type": "markdown",
   "metadata": {},
   "source": [
    "## Extract Features\n",
    "### 1. HOG"
   ]
  },
  {
   "cell_type": "code",
   "execution_count": 6,
   "metadata": {},
   "outputs": [
    {
     "name": "stderr",
     "output_type": "stream",
     "text": [
      "/Users/shrey/anaconda3/lib/python3.7/site-packages/skimage/feature/_hog.py:150: skimage_deprecation: Default value of `block_norm`==`L1` is deprecated and will be changed to `L2-Hys` in v0.15. To supress this message specify explicitly the normalization method.\n",
      "  skimage_deprecation)\n"
     ]
    },
    {
     "name": "stdout",
     "output_type": "stream",
     "text": [
      "(4209, 512)\n",
      "(4209, 512)\n"
     ]
    }
   ],
   "source": [
    "def test_hog(img_no):\n",
    "    hog_feature, hog_img = sk_hog(X_train[img_no], orientations=8, pixels_per_cell=(8, 8),\n",
    "                        cells_per_block=(1, 1), visualize=True, multichannel=True)\n",
    "\n",
    "    display(X_train[img_no], hog_img, title2=\"Histogram of gradients\")\n",
    "    print(\"hog_feature vector: \", hog_feature.shape, type(hog_feature))\n",
    "    print(\"hog_image vector: \", hog_img.shape, type(hog_img))\n",
    "    \n",
    "# test_hog(50)\n",
    "\n",
    "def calc_hog(img): # hog_feature_vectors\n",
    "    return sk_hog(img, orientations=8, pixels_per_cell=(8, 8), cells_per_block=(1, 1), multichannel=True)\n",
    "\n",
    "X_train_hog = np.array( [calc_hog(img) for img in X_train] )\n",
    "X_test_hog = np.array( [calc_hog(img) for img in X_test] )\n",
    "\n",
    "print(X_train_hog.shape)\n",
    "print(X_test_hog.shape)"
   ]
  },
  {
   "cell_type": "code",
   "execution_count": null,
   "metadata": {},
   "outputs": [],
   "source": []
  },
  {
   "cell_type": "code",
   "execution_count": 36,
   "metadata": {},
   "outputs": [],
   "source": [
    "# save features\n",
    "np.savetxt('train_features.txt', X_train_hog, delimiter=\",\")\n",
    "np.savetxt('test_features.txt', X_test_hog, delimiter=\",\")"
   ]
  },
  {
   "cell_type": "code",
   "execution_count": 37,
   "metadata": {},
   "outputs": [],
   "source": [
    "# load features\n",
    "train_hog = np.loadtxt('train_features.txt', delimiter=\",\")\n",
    "test_hog = np.loadtxt('test_features.txt', delimiter=\",\")"
   ]
  },
  {
   "cell_type": "code",
   "execution_count": 35,
   "metadata": {},
   "outputs": [
    {
     "data": {
      "text/plain": [
       "False"
      ]
     },
     "execution_count": 35,
     "metadata": {},
     "output_type": "execute_result"
    }
   ],
   "source": [
    "# chk if file exists\n",
    "import os\n",
    "os.path.isfile('train_features.txt')"
   ]
  },
  {
   "cell_type": "markdown",
   "metadata": {},
   "source": [
    "## > Test hog after rescaling vs before rescaling  "
   ]
  },
  {
   "cell_type": "code",
   "execution_count": 7,
   "metadata": {},
   "outputs": [
    {
     "data": {
      "image/png": "[encoded data removed]",
      "text/plain": [
       "<Figure size 432x288 with 2 Axes>"
      ]
     },
     "metadata": {
      "needs_background": "light"
     },
     "output_type": "display_data"
    },
    {
     "name": "stdout",
     "output_type": "stream",
     "text": [
      "hog_feature vector:  (512,) <class 'numpy.ndarray'>\n",
      "hog_image vector:  (64, 64) <class 'numpy.ndarray'>\n"
     ]
    }
   ],
   "source": [
    "test_hog(0)"
   ]
  },
  {
   "cell_type": "code",
   "execution_count": 95,
   "metadata": {},
   "outputs": [
    {
     "name": "stdout",
     "output_type": "stream",
     "text": [
      "(4209, 512)\n"
     ]
    },
    {
     "data": {
      "image/png": "[encoded data removed]",
      "text/plain": [
       "<Figure size 432x288 with 2 Axes>"
      ]
     },
     "metadata": {
      "needs_background": "light"
     },
     "output_type": "display_data"
    },
    {
     "name": "stdout",
     "output_type": "stream",
     "text": [
      "hog_feature vector:  (2560,) <class 'numpy.ndarray'>\n",
      "hog_image vector:  (84, 256) <class 'numpy.ndarray'>\n"
     ]
    },
    {
     "data": {
      "image/png": "[encoded data removed]",
      "text/plain": [
       "<Figure size 432x288 with 2 Axes>"
      ]
     },
     "metadata": {
      "needs_background": "light"
     },
     "output_type": "display_data"
    }
   ],
   "source": [
    "print(X_train_hog.shape)\n",
    "\n",
    "# check on unprocessed image\n",
    "X_img = cv2.imread(X_train_img_paths[0], cv2.IMREAD_UNCHANGED)\n",
    "hog_feature, hog_img = sk_hog(X_img, orientations=8, pixels_per_cell=(8, 8),\n",
    "                        cells_per_block=(1, 1), visualize=True, multichannel=True)\n",
    "\n",
    "display(X_img, hog_img, title2=\"Histogram of gradients\")\n",
    "print(\"hog_feature vector: \", hog_feature.shape, type(hog_feature))\n",
    "print(\"hog_image vector: \", hog_img.shape, type(hog_img))\n",
    "\n",
    "#resize now\n",
    "X_img = cv2.resize(X_img, (64, 64), interpolation=cv2.INTER_LINEAR)\n",
    "hog_img = cv2.resize(hog_img, (64, 64), interpolation=cv2.INTER_LINEAR)\n",
    "display(X_img, hog_img, title2=\"Histogram of gradients\")"
   ]
  },
  {
   "cell_type": "markdown",
   "metadata": {},
   "source": [
    "## DR"
   ]
  },
  {
   "cell_type": "markdown",
   "metadata": {},
   "source": [
    "a. singular value decomposition"
   ]
  },
  {
   "cell_type": "code",
   "execution_count": 8,
   "metadata": {},
   "outputs": [
    {
     "name": "stdout",
     "output_type": "stream",
     "text": [
      "X_train_svd:  (4209, 200) <class 'numpy.ndarray'>\n"
     ]
    }
   ],
   "source": [
    "# X_train_hog \n",
    "# X_test_hog\n",
    "def svd_transform(feature_dataset, components):\n",
    "    svd = TruncatedSVD(n_components=components)\n",
    "    svd.fit(feature_dataset)\n",
    "    return svd.transform(feature_dataset)\n",
    "\n",
    "\n",
    "X_train_svd = svd_transform(X_train_hog, 200)\n",
    "print(\"X_train_svd: \", X_train_svd.shape, type(X_train_svd))"
   ]
  },
  {
   "cell_type": "code",
   "execution_count": 11,
   "metadata": {},
   "outputs": [
    {
     "name": "stdout",
     "output_type": "stream",
     "text": [
      "X_train_svd:  (4209, 200) <class 'numpy.ndarray'>\n"
     ]
    }
   ],
   "source": [
    "X_test_svd = svd_transform(X_test_hog, 200)\n",
    "print(\"X_train_svd: \", X_test_svd.shape, type(X_test_svd))"
   ]
  },
  {
   "cell_type": "code",
   "execution_count": 12,
   "metadata": {},
   "outputs": [
    {
     "data": {
      "text/plain": [
       "array([ 1.,  2.,  3.,  4.,  5.,  6.,  7.,  8.,  9., 10., 11., 12., 13.,\n",
       "       14.])"
      ]
     },
     "execution_count": 12,
     "metadata": {},
     "output_type": "execute_result"
    }
   ],
   "source": [
    "np.unique(y_train)"
   ]
  },
  {
   "cell_type": "markdown",
   "metadata": {},
   "source": [
    "b. PCA"
   ]
  },
  {
   "cell_type": "code",
   "execution_count": 7,
   "metadata": {},
   "outputs": [
    {
     "ename": "AttributeError",
     "evalue": "'numpy.ndarray' object has no attribute 'explained_variance_ratio_'",
     "output_type": "error",
     "traceback": [
      "\u001b[0;31m---------------------------------------------------------------------------\u001b[0m",
      "\u001b[0;31mAttributeError\u001b[0m                            Traceback (most recent call last)",
      "\u001b[0;32m<ipython-input-7-153eb69553d3>\u001b[0m in \u001b[0;36m<module>\u001b[0;34m\u001b[0m\n\u001b[1;32m      1\u001b[0m \u001b[0mpca\u001b[0m \u001b[0;34m=\u001b[0m \u001b[0mPCA\u001b[0m\u001b[0;34m(\u001b[0m\u001b[0mn_components\u001b[0m\u001b[0;34m=\u001b[0m\u001b[0;36m460\u001b[0m\u001b[0;34m)\u001b[0m\u001b[0;34m\u001b[0m\u001b[0;34m\u001b[0m\u001b[0m\n\u001b[1;32m      2\u001b[0m \u001b[0mX_train_pca\u001b[0m \u001b[0;34m=\u001b[0m \u001b[0mpca\u001b[0m\u001b[0;34m.\u001b[0m\u001b[0mfit_transform\u001b[0m\u001b[0;34m(\u001b[0m\u001b[0mX_train_hog\u001b[0m\u001b[0;34m)\u001b[0m\u001b[0;34m\u001b[0m\u001b[0;34m\u001b[0m\u001b[0m\n\u001b[0;32m----> 3\u001b[0;31m \u001b[0mprint\u001b[0m\u001b[0;34m(\u001b[0m\u001b[0mX_train_pca\u001b[0m\u001b[0;34m.\u001b[0m\u001b[0mexplained_variance_ratio_\u001b[0m\u001b[0;34m)\u001b[0m \u001b[0;31m# 512 - 52=460 components seems significient\u001b[0m\u001b[0;34m\u001b[0m\u001b[0;34m\u001b[0m\u001b[0m\n\u001b[0m\u001b[1;32m      4\u001b[0m \u001b[0mprint\u001b[0m\u001b[0;34m(\u001b[0m\u001b[0mX_train_pca\u001b[0m\u001b[0;34m.\u001b[0m\u001b[0mshape\u001b[0m\u001b[0;34m,\u001b[0m \u001b[0mtype\u001b[0m\u001b[0;34m(\u001b[0m\u001b[0mX_train_pca\u001b[0m\u001b[0;34m)\u001b[0m\u001b[0;34m)\u001b[0m\u001b[0;34m\u001b[0m\u001b[0;34m\u001b[0m\u001b[0m\n",
      "\u001b[0;31mAttributeError\u001b[0m: 'numpy.ndarray' object has no attribute 'explained_variance_ratio_'"
     ]
    }
   ],
   "source": [
    "pca = PCA(n_components=460)\n",
    "X_train_pca = pca.fit_transform(X_train_hog)\n",
    "print(X_train_pca.explained_variance_ratio_) # 512 - 52=460 components seems significient \n",
    "print(X_train_pca.shape, type(X_train_pca))"
   ]
  },
  {
   "cell_type": "code",
   "execution_count": 65,
   "metadata": {},
   "outputs": [
    {
     "name": "stdout",
     "output_type": "stream",
     "text": [
      "(4209, 460) <class 'numpy.ndarray'>\n"
     ]
    }
   ],
   "source": [
    "pca1 = PCA(n_components=460)\n",
    "X_test_pca = pca1.fit_transform(X_test_hog)\n",
    "# print(X_test_pca.explained_variance_ratio_) # 512 - 52=460 components seems significient \n",
    "print(X_test_pca.shape, type(X_test_pca))"
   ]
  },
  {
   "cell_type": "code",
   "execution_count": 66,
   "metadata": {},
   "outputs": [
    {
     "name": "stdout",
     "output_type": "stream",
     "text": [
      "              precision    recall  f1-score   support\n",
      "\n",
      "         1.0       0.25      0.36      0.30      1325\n",
      "         2.0       0.19      0.33      0.24       600\n",
      "         3.0       0.00      0.00      0.00       139\n",
      "         4.0       0.00      0.00      0.00        27\n",
      "         5.0       0.00      0.00      0.00        16\n",
      "         6.0       0.00      0.00      0.00        26\n",
      "         7.0       0.00      0.00      0.00        12\n",
      "         8.0       0.00      0.00      0.00        88\n",
      "         9.0       0.00      0.00      0.00         5\n",
      "        10.0       0.00      0.00      0.00        19\n",
      "        11.0       0.00      0.00      0.00         5\n",
      "        12.0       0.06      0.01      0.02       493\n",
      "        13.0       0.00      0.00      0.00        43\n",
      "        14.0       0.16      0.12      0.14      1411\n",
      "\n",
      "   micro avg       0.20      0.20      0.20      4209\n",
      "   macro avg       0.05      0.06      0.05      4209\n",
      "weighted avg       0.17      0.20      0.18      4209\n",
      "\n"
     ]
    },
    {
     "name": "stderr",
     "output_type": "stream",
     "text": [
      "/Users/shrey/anaconda3/lib/python3.7/site-packages/sklearn/metrics/classification.py:1143: UndefinedMetricWarning: Precision and F-score are ill-defined and being set to 0.0 in labels with no predicted samples.\n",
      "  'precision', 'predicted', average, warn_for)\n"
     ]
    }
   ],
   "source": [
    "knn_classifier = KNeighborsClassifier(n_neighbors=5, algorithm='ball_tree')\n",
    "knn_classifier.fit(X_train_pca, y_train)\n",
    "\n",
    "y_pred = knn_classifier.predict(X_test_pca)\n",
    "print(metrics.classification_report(y_test, y_pred))"
   ]
  },
  {
   "cell_type": "code",
   "execution_count": 13,
   "metadata": {},
   "outputs": [
    {
     "name": "stdout",
     "output_type": "stream",
     "text": [
      "****************************************************************************************************\n"
     ]
    }
   ],
   "source": [
    "print('*'*100)"
   ]
  },
  {
   "cell_type": "code",
   "execution_count": 7,
   "metadata": {},
   "outputs": [
    {
     "data": {
      "text/plain": [
       "array([[[ 0,  1,  2],\n",
       "        [ 3,  4,  5],\n",
       "        [ 6,  7,  8]],\n",
       "\n",
       "       [[ 9, 10, 11],\n",
       "        [12, 13, 14],\n",
       "        [15, 16, 17]],\n",
       "\n",
       "       [[18, 19, 20],\n",
       "        [21, 22, 23],\n",
       "        [24, 25, 26]]])"
      ]
     },
     "execution_count": 7,
     "metadata": {},
     "output_type": "execute_result"
    }
   ],
   "source": [
    "one = np.arange(27).reshape((3, 3, 3))\n",
    "one"
   ]
  },
  {
   "cell_type": "code",
   "execution_count": 8,
   "metadata": {},
   "outputs": [
    {
     "data": {
      "text/plain": [
       "array([ 0,  1,  2,  3,  4,  5,  6,  7,  8,  9, 10, 11, 12, 13, 14, 15, 16,\n",
       "       17, 18, 19, 20, 21, 22, 23, 24, 25, 26])"
      ]
     },
     "execution_count": 8,
     "metadata": {},
     "output_type": "execute_result"
    }
   ],
   "source": [
    "one = one.reshape(-1)\n",
    "one"
   ]
  },
  {
   "cell_type": "markdown",
   "metadata": {},
   "source": [
    "## Apply knn model"
   ]
  },
  {
   "cell_type": "code",
   "execution_count": 9,
   "metadata": {},
   "outputs": [
    {
     "name": "stdout",
     "output_type": "stream",
     "text": [
      "(4209, 7500)\n",
      "[ 94 118 136 ...  66  80  98]\n"
     ]
    }
   ],
   "source": [
    "# (4209, 50, 50, 3)\n",
    "# X_train_inp = X_train.reshape((4209, -1)) # Raw images\n",
    "# print(X_train_inp.shape)\n",
    "# print(X_train_inp[0])\n"
   ]
  },
  {
   "cell_type": "code",
   "execution_count": null,
   "metadata": {},
   "outputs": [],
   "source": []
  },
  {
   "cell_type": "code",
   "execution_count": 100,
   "metadata": {},
   "outputs": [
    {
     "data": {
      "text/plain": [
       "KNeighborsClassifier(algorithm='ball_tree', leaf_size=30, metric='minkowski',\n",
       "           metric_params=None, n_jobs=None, n_neighbors=5, p=2,\n",
       "           weights='uniform')"
      ]
     },
     "execution_count": 100,
     "metadata": {},
     "output_type": "execute_result"
    }
   ],
   "source": [
    "# SVD \n",
    "knn_classifier = KNeighborsClassifier(n_neighbors=5, algorithm='ball_tree')\n",
    "knn_classifier.fit(X_train_svd, y_train)"
   ]
  },
  {
   "cell_type": "code",
   "execution_count": 103,
   "metadata": {},
   "outputs": [
    {
     "name": "stdout",
     "output_type": "stream",
     "text": [
      "              precision    recall  f1-score   support\n",
      "\n",
      "         1.0       0.30      0.43      0.35      1325\n",
      "         2.0       0.14      0.12      0.13       600\n",
      "         3.0       0.05      0.01      0.02       139\n",
      "         4.0       0.00      0.00      0.00        27\n",
      "         5.0       0.00      0.00      0.00        16\n",
      "         6.0       0.00      0.00      0.00        26\n",
      "         7.0       0.00      0.00      0.00        12\n",
      "         8.0       0.00      0.00      0.00        88\n",
      "         9.0       0.00      0.00      0.00         5\n",
      "        10.0       0.00      0.00      0.00        19\n",
      "        11.0       0.00      0.00      0.00         5\n",
      "        12.0       0.06      0.03      0.04       493\n",
      "        13.0       0.00      0.00      0.00        43\n",
      "        14.0       0.20      0.20      0.20      1411\n",
      "\n",
      "   micro avg       0.23      0.23      0.23      4209\n",
      "   macro avg       0.05      0.06      0.05      4209\n",
      "weighted avg       0.19      0.23      0.20      4209\n",
      "\n"
     ]
    },
    {
     "name": "stderr",
     "output_type": "stream",
     "text": [
      "/Users/shrey/anaconda3/lib/python3.7/site-packages/sklearn/metrics/classification.py:1143: UndefinedMetricWarning: Precision and F-score are ill-defined and being set to 0.0 in labels with no predicted samples.\n",
      "  'precision', 'predicted', average, warn_for)\n"
     ]
    }
   ],
   "source": [
    "y_pred = knn_classifier.predict(X_test_svd)\n",
    "print(metrics.classification_report(y_test, y_pred))"
   ]
  },
  {
   "cell_type": "code",
   "execution_count": 67,
   "metadata": {},
   "outputs": [
    {
     "name": "stdout",
     "output_type": "stream",
     "text": [
      "              precision    recall  f1-score   support\n",
      "\n",
      "         1.0       0.65      0.84      0.73      1325\n",
      "         2.0       0.46      0.39      0.42       600\n",
      "         3.0       0.57      0.12      0.19       139\n",
      "         4.0       0.43      0.11      0.18        27\n",
      "         5.0       0.08      0.19      0.11        16\n",
      "         6.0       1.00      0.31      0.47        26\n",
      "         7.0       0.00      0.00      0.00        12\n",
      "         8.0       0.36      0.09      0.15        88\n",
      "         9.0       0.00      0.00      0.00         5\n",
      "        10.0       0.50      0.11      0.17        19\n",
      "        11.0       0.00      0.00      0.00         5\n",
      "        12.0       0.88      0.71      0.79       493\n",
      "        13.0       1.00      0.02      0.05        43\n",
      "        14.0       0.88      0.93      0.90      1411\n",
      "\n",
      "   micro avg       0.72      0.72      0.72      4209\n",
      "   macro avg       0.49      0.27      0.30      4209\n",
      "weighted avg       0.72      0.72      0.70      4209\n",
      "\n"
     ]
    },
    {
     "name": "stderr",
     "output_type": "stream",
     "text": [
      "/Users/shrey/anaconda3/lib/python3.7/site-packages/sklearn/metrics/classification.py:1143: UndefinedMetricWarning: Precision and F-score are ill-defined and being set to 0.0 in labels with no predicted samples.\n",
      "  'precision', 'predicted', average, warn_for)\n"
     ]
    }
   ],
   "source": [
    "#using hog features only (512,) dim per img\n",
    "knn_classifier = KNeighborsClassifier(n_neighbors=5, algorithm='ball_tree')\n",
    "knn_classifier.fit(X_train_hog, y_train)\n",
    "\n",
    "y_pred = knn_classifier.predict(X_test_hog)\n",
    "print(metrics.classification_report(y_test, y_pred))"
   ]
  },
  {
   "cell_type": "code",
   "execution_count": 51,
   "metadata": {},
   "outputs": [
    {
     "name": "stdout",
     "output_type": "stream",
     "text": [
      "count     4209\n",
      "unique       2\n",
      "top       True\n",
      "freq      3043\n",
      "dtype: object\n"
     ]
    }
   ],
   "source": [
    "test = y_pred[:] == y_test[:]\n",
    "df_test = pd.Series(test)\n",
    "print(df_test.describe())\n",
    "\n",
    "\n",
    "# for i in range(10):\n",
    "#     print(y_test[i], y_pred[i], test[i])\n",
    "\n",
    "\n",
    "# np.savetxt('pred_test.txt', y_pred[:10], fmt='%d', delimiter=\"\\n\")"
   ]
  },
  {
   "cell_type": "code",
   "execution_count": null,
   "metadata": {},
   "outputs": [],
   "source": []
  },
  {
   "cell_type": "code",
   "execution_count": 109,
   "metadata": {},
   "outputs": [
    {
     "name": "stdout",
     "output_type": "stream",
     "text": [
      "(4209, 12288)\n",
      "(4209, 12288)\n",
      "              precision    recall  f1-score   support\n",
      "\n",
      "         1.0       0.62      0.77      0.69      1325\n",
      "         2.0       0.44      0.15      0.23       600\n",
      "         3.0       0.50      0.01      0.01       139\n",
      "         4.0       1.00      0.07      0.14        27\n",
      "         5.0       1.00      0.06      0.12        16\n",
      "         6.0       0.48      0.46      0.47        26\n",
      "         7.0       0.00      0.00      0.00        12\n",
      "         8.0       0.67      0.02      0.04        88\n",
      "         9.0       0.00      0.00      0.00         5\n",
      "        10.0       0.00      0.00      0.00        19\n",
      "        11.0       0.00      0.00      0.00         5\n",
      "        12.0       0.86      0.80      0.82       493\n",
      "        13.0       0.79      0.26      0.39        43\n",
      "        14.0       0.74      0.98      0.84      1411\n",
      "\n",
      "   micro avg       0.69      0.69      0.69      4209\n",
      "   macro avg       0.51      0.26      0.27      4209\n",
      "weighted avg       0.66      0.69      0.64      4209\n",
      "\n"
     ]
    },
    {
     "name": "stderr",
     "output_type": "stream",
     "text": [
      "/Users/shrey/anaconda3/lib/python3.7/site-packages/sklearn/metrics/classification.py:1143: UndefinedMetricWarning: Precision and F-score are ill-defined and being set to 0.0 in labels with no predicted samples.\n",
      "  'precision', 'predicted', average, warn_for)\n"
     ]
    }
   ],
   "source": [
    "# Raw images\n",
    "X_train_inp = X_train.reshape((4209, -1)) \n",
    "X_test_inp = X_test.reshape((4209, -1))\n",
    "print(X_train_inp.shape)\n",
    "print(X_test_inp.shape)\n",
    "\n",
    "\n",
    "knn_classifier = KNeighborsClassifier(n_neighbors=5, algorithm='ball_tree')\n",
    "knn_classifier.fit(X_train_inp, y_train)\n",
    "\n",
    "y_pred = knn_classifier.predict(X_test_inp)\n",
    "print(metrics.classification_report(y_test, y_pred))"
   ]
  },
  {
   "cell_type": "code",
   "execution_count": 112,
   "metadata": {},
   "outputs": [
    {
     "name": "stdout",
     "output_type": "stream",
     "text": [
      "(4209, 1000)\n",
      "(4209, 1000)\n",
      "              precision    recall  f1-score   support\n",
      "\n",
      "         1.0       0.54      0.67      0.60      1325\n",
      "         2.0       0.24      0.07      0.10       600\n",
      "         3.0       0.00      0.00      0.00       139\n",
      "         4.0       0.00      0.00      0.00        27\n",
      "         5.0       0.00      0.00      0.00        16\n",
      "         6.0       0.27      0.15      0.20        26\n",
      "         7.0       0.00      0.00      0.00        12\n",
      "         8.0       0.43      0.03      0.06        88\n",
      "         9.0       0.00      0.00      0.00         5\n",
      "        10.0       0.00      0.00      0.00        19\n",
      "        11.0       0.00      0.00      0.00         5\n",
      "        12.0       0.71      0.60      0.65       493\n",
      "        13.0       0.29      0.05      0.08        43\n",
      "        14.0       0.65      0.91      0.76      1411\n",
      "\n",
      "   micro avg       0.60      0.60      0.60      4209\n",
      "   macro avg       0.22      0.18      0.17      4209\n",
      "weighted avg       0.52      0.60      0.54      4209\n",
      "\n"
     ]
    },
    {
     "name": "stderr",
     "output_type": "stream",
     "text": [
      "/Users/shrey/anaconda3/lib/python3.7/site-packages/sklearn/metrics/classification.py:1143: UndefinedMetricWarning: Precision and F-score are ill-defined and being set to 0.0 in labels with no predicted samples.\n",
      "  'precision', 'predicted', average, warn_for)\n"
     ]
    }
   ],
   "source": [
    "# Raw images reduced dimension\n",
    "X_train_inp = X_train.reshape((4209, -1)) \n",
    "X_train_inp = svd_transform(X_train_inp, 1000)\n",
    "X_test_inp = X_test.reshape((4209, -1))\n",
    "X_test_inp = svd_transform(X_test_inp, 1000)\n",
    "\n",
    "print(X_train_inp.shape)\n",
    "print(X_test_inp.shape)\n",
    "\n",
    "knn_classifier = KNeighborsClassifier(n_neighbors=5, algorithm='ball_tree')\n",
    "knn_classifier.fit(X_train_inp, y_train)\n",
    "\n",
    "y_pred = knn_classifier.predict(X_test_inp)\n",
    "print(metrics.classification_report(y_test, y_pred))"
   ]
  },
  {
   "cell_type": "code",
   "execution_count": 7,
   "metadata": {},
   "outputs": [
    {
     "name": "stdout",
     "output_type": "stream",
     "text": [
      "/Users/shrey/anaconda3/bin/python\r\n"
     ]
    }
   ],
   "source": [
    "!which python\n"
   ]
  },
  {
   "cell_type": "markdown",
   "metadata": {},
   "source": [
    "## SVM"
   ]
  },
  {
   "cell_type": "code",
   "execution_count": 7,
   "metadata": {},
   "outputs": [
    {
     "data": {
      "text/plain": [
       "SVC(C=1.0, cache_size=200, class_weight=None, coef0=0.0,\n",
       "  decision_function_shape='ovo', degree=3, gamma='scale', kernel='rbf',\n",
       "  max_iter=-1, probability=False, random_state=None, shrinking=True,\n",
       "  tol=0.001, verbose=False)"
      ]
     },
     "execution_count": 7,
     "metadata": {},
     "output_type": "execute_result"
    }
   ],
   "source": [
    "'''\n",
    "def calc_hog(img): # hog_feature_vectors\n",
    "    return sk_hog(img, orientations=8, pixels_per_cell=(8, 8), cells_per_block=(1, 1), multichannel=True)\n",
    "\n",
    "X_train_hog = np.array( [calc_hog(img) for img in X_train] )\n",
    "X_test_hog = np.array( [calc_hog(img) for img in X_test] )\n",
    "\n",
    "print(X_train_hog.shape)\n",
    "print(X_test_hog.shape)\n",
    "'''\n",
    "from sklearn import svm\n",
    "\n",
    "svm_classifier = svm.SVC(gamma='scale', decision_function_shape='ovo')\n",
    "svm_classifier.fit(X_train_hog, y_train)"
   ]
  },
  {
   "cell_type": "code",
   "execution_count": 8,
   "metadata": {},
   "outputs": [],
   "source": [
    "pred = svm_classifier.predict(X_test_hog)"
   ]
  },
  {
   "cell_type": "code",
   "execution_count": 9,
   "metadata": {},
   "outputs": [
    {
     "name": "stdout",
     "output_type": "stream",
     "text": [
      "              precision    recall  f1-score   support\n",
      "\n",
      "         1.0       0.58      0.95      0.72      1325\n",
      "         2.0       1.00      0.01      0.03       600\n",
      "         3.0       0.00      0.00      0.00       139\n",
      "         4.0       0.00      0.00      0.00        27\n",
      "         5.0       0.00      0.00      0.00        16\n",
      "         6.0       0.00      0.00      0.00        26\n",
      "         7.0       0.00      0.00      0.00        12\n",
      "         8.0       0.00      0.00      0.00        88\n",
      "         9.0       0.00      0.00      0.00         5\n",
      "        10.0       0.00      0.00      0.00        19\n",
      "        11.0       0.00      0.00      0.00         5\n",
      "        12.0       0.88      0.70      0.78       493\n",
      "        13.0       0.00      0.00      0.00        43\n",
      "        14.0       0.81      0.95      0.87      1411\n",
      "\n",
      "   micro avg       0.70      0.70      0.70      4209\n",
      "   macro avg       0.23      0.19      0.17      4209\n",
      "weighted avg       0.70      0.70      0.62      4209\n",
      "\n"
     ]
    },
    {
     "name": "stderr",
     "output_type": "stream",
     "text": [
      "/Users/shrey/anaconda3/lib/python3.7/site-packages/sklearn/metrics/classification.py:1143: UndefinedMetricWarning: Precision and F-score are ill-defined and being set to 0.0 in labels with no predicted samples.\n",
      "  'precision', 'predicted', average, warn_for)\n"
     ]
    }
   ],
   "source": [
    "print(metrics.classification_report(y_test, pred))"
   ]
  },
  {
   "cell_type": "code",
   "execution_count": 10,
   "metadata": {},
   "outputs": [
    {
     "data": {
      "text/plain": [
       "array([14.,  1.,  1., ..., 12., 12., 14.])"
      ]
     },
     "execution_count": 10,
     "metadata": {},
     "output_type": "execute_result"
    }
   ],
   "source": [
    "pred"
   ]
  },
  {
   "cell_type": "code",
   "execution_count": null,
   "metadata": {},
   "outputs": [],
   "source": []
  }
 ],
 "metadata": {
  "kernelspec": {
   "display_name": "Python 3",
   "language": "python",
   "name": "python3"
  },
  "language_info": {
   "codemirror_mode": {
    "name": "ipython",
    "version": 3
   },
   "file_extension": ".py",
   "mimetype": "text/x-python",
   "name": "python",
   "nbconvert_exporter": "python",
   "pygments_lexer": "ipython3",
   "version": "3.7.1"
  }
 },
 "nbformat": 4,
 "nbformat_minor": 2
}
